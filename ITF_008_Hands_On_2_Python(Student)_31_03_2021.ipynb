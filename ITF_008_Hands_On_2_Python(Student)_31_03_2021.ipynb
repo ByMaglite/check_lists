{
  "nbformat": 4,
  "nbformat_minor": 0,
  "metadata": {
    "kernelspec": {
      "display_name": "Python 3",
      "language": "python",
      "name": "python3"
    },
    "language_info": {
      "codemirror_mode": {
        "name": "ipython",
        "version": 3
      },
      "file_extension": ".py",
      "mimetype": "text/x-python",
      "name": "python",
      "nbconvert_exporter": "python",
      "pygments_lexer": "ipython3",
      "version": "3.7.3"
    },
    "colab": {
      "name": "ITF-008_Hands-On-2-Python(Student)-31.03.2021.ipynb",
      "provenance": [],
      "include_colab_link": true
    }
  },
  "cells": [
    {
      "cell_type": "markdown",
      "metadata": {
        "id": "view-in-github",
        "colab_type": "text"
      },
      "source": [
        "<a href=\"https://colab.research.google.com/github/fatihtepe/creating_repoManual/blob/main/ITF_008_Hands_On_2_Python(Student)_31_03_2021.ipynb\" target=\"_parent\"><img src=\"https://colab.research.google.com/assets/colab-badge.svg\" alt=\"Open In Colab\"/></a>"
      ]
    },
    {
      "cell_type": "markdown",
      "metadata": {
        "id": "GFS-B0Ks6iN5"
      },
      "source": [
        "<img src=\"https://docs.google.com/uc?id=14xeXxFrVRjvOoUYWn_GuyE-v84wVzrqr\" class=\"img-fluid\" alt=\"CLRWY\" width=\"400\" height=\"200\">"
      ]
    },
    {
      "cell_type": "markdown",
      "metadata": {
        "id": "WRWrL7x96iN7"
      },
      "source": [
        "<h1><p style=\"text-align: center; color:darkblue\">Python In-Class and Hands on Training<br>31 March 2021</p><h1>"
      ]
    },
    {
      "cell_type": "code",
      "metadata": {
        "id": "k2eDQQGS6iN8",
        "outputId": "a7aa18d4-eed5-4d13-b224-b7241e99b396"
      },
      "source": [
        "list(\"111\")"
      ],
      "execution_count": null,
      "outputs": [
        {
          "output_type": "execute_result",
          "data": {
            "text/plain": [
              "['1', '1', '1']"
            ]
          },
          "metadata": {
            "tags": []
          },
          "execution_count": 2
        }
      ]
    },
    {
      "cell_type": "code",
      "metadata": {
        "id": "Y2uLBx-36iN9"
      },
      "source": [
        "a = \"123po ıu-,.ç\""
      ],
      "execution_count": null,
      "outputs": []
    },
    {
      "cell_type": "code",
      "metadata": {
        "id": "hX-e328f6iN9",
        "outputId": "9b7a76ee-0686-4bee-a6ac-e04338fa4655"
      },
      "source": [
        "a"
      ],
      "execution_count": null,
      "outputs": [
        {
          "output_type": "execute_result",
          "data": {
            "text/plain": [
              "'123po ıu-,.ç'"
            ]
          },
          "metadata": {
            "tags": []
          },
          "execution_count": 7
        }
      ]
    },
    {
      "cell_type": "code",
      "metadata": {
        "id": "-C9M4yZV6iN-",
        "outputId": "87c7377a-1de5-4bc1-b332-7a69522512c7"
      },
      "source": [
        "list(a)"
      ],
      "execution_count": null,
      "outputs": [
        {
          "output_type": "execute_result",
          "data": {
            "text/plain": [
              "['1', '2', '3', 'p', 'o', ' ', 'ı', 'u', '-', ',', '.', 'ç']"
            ]
          },
          "metadata": {
            "tags": []
          },
          "execution_count": 8
        }
      ]
    },
    {
      "cell_type": "code",
      "metadata": {
        "id": "MxpUrUW86iN-",
        "outputId": "64ad02da-ca12-4d4d-8d1c-223227ff9468"
      },
      "source": [
        "b = [a]\n",
        "b"
      ],
      "execution_count": null,
      "outputs": [
        {
          "output_type": "execute_result",
          "data": {
            "text/plain": [
              "['123po ıu-,.ç']"
            ]
          },
          "metadata": {
            "tags": []
          },
          "execution_count": 9
        }
      ]
    },
    {
      "cell_type": "code",
      "metadata": {
        "id": "eXuJCB_s6iN_",
        "outputId": "275b47bc-263e-4e21-fef9-5ff789d155d5"
      },
      "source": [
        "type(b)"
      ],
      "execution_count": null,
      "outputs": [
        {
          "output_type": "execute_result",
          "data": {
            "text/plain": [
              "list"
            ]
          },
          "metadata": {
            "tags": []
          },
          "execution_count": 10
        }
      ]
    },
    {
      "cell_type": "code",
      "metadata": {
        "id": "guG8p8JL6iN_",
        "outputId": "00847200-699f-4c0e-e2f7-924d689ca863"
      },
      "source": [
        "[\"ALİ\"]"
      ],
      "execution_count": null,
      "outputs": [
        {
          "output_type": "execute_result",
          "data": {
            "text/plain": [
              "['ALİ']"
            ]
          },
          "metadata": {
            "tags": []
          },
          "execution_count": 12
        }
      ]
    },
    {
      "cell_type": "code",
      "metadata": {
        "id": "bB4-FSJT6iN_",
        "outputId": "efb76f07-f509-4755-d203-36c9d93826d0"
      },
      "source": [
        "list_1 = ['h', 'a', 'p', 'p', 'y']\n",
        "word = 'happy'\n",
        "list_2 = list(word)\n",
        "print(list_1)\n",
        "print(list_2)"
      ],
      "execution_count": null,
      "outputs": [
        {
          "output_type": "stream",
          "text": [
            "['h', 'a', 'p', 'p', 'y']\n",
            "['h', 'a', 'p', 'p', 'y']\n"
          ],
          "name": "stdout"
        }
      ]
    },
    {
      "cell_type": "code",
      "metadata": {
        "id": "7ws67Xug6iOA",
        "outputId": "d1b5431c-3127-4e6e-9244-681bf36320f5"
      },
      "source": [
        "new = [word]\n",
        "new"
      ],
      "execution_count": null,
      "outputs": [
        {
          "output_type": "execute_result",
          "data": {
            "text/plain": [
              "['happy']"
            ]
          },
          "metadata": {
            "tags": []
          },
          "execution_count": 14
        }
      ]
    },
    {
      "cell_type": "code",
      "metadata": {
        "id": "Qx5Q1zCk6iOA"
      },
      "source": [
        "a = [\"ali\", \"selma\"]"
      ],
      "execution_count": null,
      "outputs": []
    },
    {
      "cell_type": "code",
      "metadata": {
        "id": "keMDMZ3d6iOA",
        "outputId": "45536847-05f7-4a64-ce3b-5d7d7668390b"
      },
      "source": [
        "a"
      ],
      "execution_count": null,
      "outputs": [
        {
          "output_type": "execute_result",
          "data": {
            "text/plain": [
              "['ali', 'selma']"
            ]
          },
          "metadata": {
            "tags": []
          },
          "execution_count": 19
        }
      ]
    },
    {
      "cell_type": "code",
      "metadata": {
        "id": "a2yjDxXq6iOB",
        "outputId": "1044e19c-85f2-48c4-9782-a5848d6fe124"
      },
      "source": [
        "b = [a]\n",
        "b"
      ],
      "execution_count": null,
      "outputs": [
        {
          "output_type": "execute_result",
          "data": {
            "text/plain": [
              "[['ali', 'selma']]"
            ]
          },
          "metadata": {
            "tags": []
          },
          "execution_count": 20
        }
      ]
    },
    {
      "cell_type": "code",
      "metadata": {
        "id": "hWsmrUp96iOB",
        "outputId": "f558bfe1-51d4-42b9-b1a7-50225e63af6c"
      },
      "source": [
        "len(b)"
      ],
      "execution_count": null,
      "outputs": [
        {
          "output_type": "execute_result",
          "data": {
            "text/plain": [
              "1"
            ]
          },
          "metadata": {
            "tags": []
          },
          "execution_count": 21
        }
      ]
    },
    {
      "cell_type": "code",
      "metadata": {
        "id": "BCHZu-BL6iOB",
        "outputId": "61136164-0d04-440b-ee14-598137e3da26"
      },
      "source": [
        "len([1])"
      ],
      "execution_count": null,
      "outputs": [
        {
          "output_type": "execute_result",
          "data": {
            "text/plain": [
              "1"
            ]
          },
          "metadata": {
            "tags": []
          },
          "execution_count": 23
        }
      ]
    },
    {
      "cell_type": "code",
      "metadata": {
        "id": "YdYbp9fL6iOB",
        "outputId": "9be4d461-cfe4-4260-f3fb-5f6ef362b8eb"
      },
      "source": [
        "len(22)"
      ],
      "execution_count": null,
      "outputs": [
        {
          "output_type": "error",
          "ename": "TypeError",
          "evalue": "object of type 'int' has no len()",
          "traceback": [
            "\u001b[1;31m---------------------------------------------------------------------------\u001b[0m",
            "\u001b[1;31mTypeError\u001b[0m                                 Traceback (most recent call last)",
            "\u001b[1;32m<ipython-input-22-2c26459deafb>\u001b[0m in \u001b[0;36m<module>\u001b[1;34m\u001b[0m\n\u001b[1;32m----> 1\u001b[1;33m \u001b[0mlen\u001b[0m\u001b[1;33m(\u001b[0m\u001b[1;36m22\u001b[0m\u001b[1;33m)\u001b[0m\u001b[1;33m\u001b[0m\u001b[1;33m\u001b[0m\u001b[0m\n\u001b[0m",
            "\u001b[1;31mTypeError\u001b[0m: object of type 'int' has no len()"
          ]
        }
      ]
    },
    {
      "cell_type": "code",
      "metadata": {
        "id": "9viqqL6Z6iOC"
      },
      "source": [
        "xx = [2,3, \"clarusway\"]"
      ],
      "execution_count": null,
      "outputs": []
    },
    {
      "cell_type": "code",
      "metadata": {
        "id": "VGNQ6sBT6iOC",
        "outputId": "764c42d8-34d2-4c2f-ebf4-d1f37d37cbfc"
      },
      "source": [
        "len(xx)"
      ],
      "execution_count": null,
      "outputs": [
        {
          "output_type": "execute_result",
          "data": {
            "text/plain": [
              "3"
            ]
          },
          "metadata": {
            "tags": []
          },
          "execution_count": 31
        }
      ]
    },
    {
      "cell_type": "code",
      "metadata": {
        "id": "3tEtgvZQ6iOC",
        "outputId": "60f92e73-f22d-4f29-fc33-078e378c0c3a"
      },
      "source": [
        "numbers = [1, 4, 7]\n",
        "numbers.append(9)\n",
        "numbers.append('9')\n",
        "print(numbers)"
      ],
      "execution_count": null,
      "outputs": [
        {
          "output_type": "stream",
          "text": [
            "[1, 4, 7, 9, '9']\n"
          ],
          "name": "stdout"
        }
      ]
    },
    {
      "cell_type": "code",
      "metadata": {
        "id": "EieSoAp56iOC"
      },
      "source": [
        "aa = \"clarusway\""
      ],
      "execution_count": null,
      "outputs": []
    },
    {
      "cell_type": "code",
      "metadata": {
        "id": "fDXKs2oR6iOD",
        "outputId": "3ddec4a9-eb55-4b9f-9108-f4b780a78c59"
      },
      "source": [
        "aa"
      ],
      "execution_count": null,
      "outputs": [
        {
          "output_type": "execute_result",
          "data": {
            "text/plain": [
              "'clarusway'"
            ]
          },
          "metadata": {
            "tags": []
          },
          "execution_count": 34
        }
      ]
    },
    {
      "cell_type": "code",
      "metadata": {
        "id": "jKLAqKHn6iOD",
        "outputId": "0791d89b-c63e-4d1e-9a84-26640fd9e8f8"
      },
      "source": [
        "aa.upper()"
      ],
      "execution_count": null,
      "outputs": [
        {
          "output_type": "execute_result",
          "data": {
            "text/plain": [
              "'CLARUSWAY'"
            ]
          },
          "metadata": {
            "tags": []
          },
          "execution_count": 35
        }
      ]
    },
    {
      "cell_type": "code",
      "metadata": {
        "id": "PdEUg0sV6iOD",
        "outputId": "505e48b9-63a1-4de3-d41b-0371c6bf57b9"
      },
      "source": [
        "aa"
      ],
      "execution_count": null,
      "outputs": [
        {
          "output_type": "execute_result",
          "data": {
            "text/plain": [
              "'clarusway'"
            ]
          },
          "metadata": {
            "tags": []
          },
          "execution_count": 36
        }
      ]
    },
    {
      "cell_type": "code",
      "metadata": {
        "id": "DjOYtPOk6iOD"
      },
      "source": [
        "cc = []"
      ],
      "execution_count": null,
      "outputs": []
    },
    {
      "cell_type": "code",
      "metadata": {
        "id": "Qja7BMui6iOD",
        "outputId": "1baf183a-a43f-409e-95c2-eca478539a58"
      },
      "source": [
        "cc.append(True)\n",
        "print(cc)"
      ],
      "execution_count": null,
      "outputs": [
        {
          "output_type": "stream",
          "text": [
            "['33', '44', '44', False, True]\n"
          ],
          "name": "stdout"
        }
      ]
    },
    {
      "cell_type": "code",
      "metadata": {
        "id": "8pHhGUMh6iOE",
        "outputId": "b65e7f62-e24f-4e56-b176-5bdc4b7312b0"
      },
      "source": [
        "cc"
      ],
      "execution_count": null,
      "outputs": [
        {
          "output_type": "execute_result",
          "data": {
            "text/plain": [
              "['33']"
            ]
          },
          "metadata": {
            "tags": []
          },
          "execution_count": 47
        }
      ]
    },
    {
      "cell_type": "code",
      "metadata": {
        "id": "JqnUbV5I6iOE"
      },
      "source": [
        "city = [\"los\", \"beirut\", \"tokyo\"]"
      ],
      "execution_count": null,
      "outputs": []
    },
    {
      "cell_type": "code",
      "metadata": {
        "id": "Ok8rrUHd6iOE"
      },
      "source": [
        "city[0] = True"
      ],
      "execution_count": null,
      "outputs": []
    },
    {
      "cell_type": "code",
      "metadata": {
        "id": "NbPi9tWf6iOE",
        "outputId": "b92fa120-c238-40ad-faac-1d28ed2c0a8f"
      },
      "source": [
        "city"
      ],
      "execution_count": null,
      "outputs": [
        {
          "output_type": "execute_result",
          "data": {
            "text/plain": [
              "[True, 'beirut', 'tokyo']"
            ]
          },
          "metadata": {
            "tags": []
          },
          "execution_count": 54
        }
      ]
    },
    {
      "cell_type": "code",
      "metadata": {
        "id": "x2IyF1_W6iOF",
        "outputId": "5c420db1-44ba-4d06-8ba5-75e600f2756b"
      },
      "source": [
        "city[1:] = \"clarus\"\n",
        "city"
      ],
      "execution_count": null,
      "outputs": [
        {
          "output_type": "execute_result",
          "data": {
            "text/plain": [
              "[True, 'c', 'l', 'a', 'r', 'u', 's']"
            ]
          },
          "metadata": {
            "tags": []
          },
          "execution_count": 55
        }
      ]
    },
    {
      "cell_type": "code",
      "metadata": {
        "id": "xo5Q3FWb6iOF",
        "outputId": "146e7e77-1923-492a-bdf2-c9614a493801"
      },
      "source": [
        "city"
      ],
      "execution_count": null,
      "outputs": [
        {
          "output_type": "execute_result",
          "data": {
            "text/plain": [
              "['los', 'beirut', 'tokyo']"
            ]
          },
          "metadata": {
            "tags": []
          },
          "execution_count": 57
        }
      ]
    },
    {
      "cell_type": "code",
      "metadata": {
        "id": "SVKVk4qU6iOF",
        "outputId": "da25fc51-8e0a-4313-a4b7-ec1d40858937"
      },
      "source": [
        "city[1:] = \"istanbul\", \"seul\"\n",
        "city"
      ],
      "execution_count": null,
      "outputs": [
        {
          "output_type": "execute_result",
          "data": {
            "text/plain": [
              "['los', 'istanbul', 'seul']"
            ]
          },
          "metadata": {
            "tags": []
          },
          "execution_count": 58
        }
      ]
    },
    {
      "cell_type": "code",
      "metadata": {
        "id": "rG8YazbQ6iOF"
      },
      "source": [
        "city[1:] = \"22\""
      ],
      "execution_count": null,
      "outputs": []
    },
    {
      "cell_type": "code",
      "metadata": {
        "id": "sbe3uWuw6iOF",
        "outputId": "8a90076d-e66c-45c1-d522-3398a7dd0758"
      },
      "source": [
        "city"
      ],
      "execution_count": null,
      "outputs": [
        {
          "output_type": "execute_result",
          "data": {
            "text/plain": [
              "['los', '2', '2']"
            ]
          },
          "metadata": {
            "tags": []
          },
          "execution_count": 61
        }
      ]
    },
    {
      "cell_type": "code",
      "metadata": {
        "id": "coA6YHBz6iOG"
      },
      "source": [
        "city1 = [\"istanbul\", \"yozgat\", \"erzurum\", \"ankara\"]"
      ],
      "execution_count": null,
      "outputs": []
    },
    {
      "cell_type": "code",
      "metadata": {
        "id": "0MTMHHTz6iOG",
        "outputId": "167ff41e-c491-421a-d105-1d148a36861c"
      },
      "source": [
        "city1"
      ],
      "execution_count": null,
      "outputs": [
        {
          "output_type": "execute_result",
          "data": {
            "text/plain": [
              "['istanbul', 'yozgat', 'erzurum', 'ankara']"
            ]
          },
          "metadata": {
            "tags": []
          },
          "execution_count": 81
        }
      ]
    },
    {
      "cell_type": "code",
      "metadata": {
        "id": "DtcUc7Gr6iOG",
        "outputId": "2dd5fb51-3a12-470e-9fa0-bb6e575e43ed"
      },
      "source": [
        "city1[0:2] = [\"a\", \"b\", \"c\",\"d\"]\n",
        "city1"
      ],
      "execution_count": null,
      "outputs": [
        {
          "output_type": "execute_result",
          "data": {
            "text/plain": [
              "['a', 'b', 'c', 'd', 'erzurum', 'ankara']"
            ]
          },
          "metadata": {
            "tags": []
          },
          "execution_count": 79
        }
      ]
    },
    {
      "cell_type": "code",
      "metadata": {
        "id": "K8f6-PV46iOG"
      },
      "source": [
        "city1[0:2] = \"abc\""
      ],
      "execution_count": null,
      "outputs": []
    },
    {
      "cell_type": "code",
      "metadata": {
        "id": "v048kU5P6iOG",
        "outputId": "cd324ef7-d0af-4b4b-f53b-17c23eaf2f0f"
      },
      "source": [
        "city1"
      ],
      "execution_count": null,
      "outputs": [
        {
          "output_type": "execute_result",
          "data": {
            "text/plain": [
              "['a', 'b', 'c', 'erzurum', 'ankara']"
            ]
          },
          "metadata": {
            "tags": []
          },
          "execution_count": 83
        }
      ]
    },
    {
      "cell_type": "markdown",
      "metadata": {
        "id": "TC2OoKuu6iOH"
      },
      "source": [
        "<img src=\"https://st2.myideasoft.com/idea/di/85/myassets/products/345/sari-dari.png?revision=1523357803\" class=\"img-fluid\" alt=\"dolma\" width=\"300\" height=\"300\">"
      ]
    },
    {
      "cell_type": "markdown",
      "metadata": {
        "id": "5ciAsyg36iOH"
      },
      "source": [
        "<img src=\"https://im.haberturk.com/2020/10/27/ver1603752682/2849057_810x458.jpg\" class=\"img-fluid\" alt=\"dolma\" width=\"300\" height=\"300\">"
      ]
    },
    {
      "cell_type": "code",
      "metadata": {
        "id": "9jNA1IQz6iOH"
      },
      "source": [
        "# \\\\ çıktı almak için ne yapmalı"
      ],
      "execution_count": null,
      "outputs": []
    },
    {
      "cell_type": "code",
      "metadata": {
        "id": "pDqi3QMv6iOH",
        "outputId": "bf2db5b9-0aff-4b1e-ab9b-83f7ee925216"
      },
      "source": [
        "print(\"\\\\\\\\\")"
      ],
      "execution_count": null,
      "outputs": [
        {
          "output_type": "stream",
          "text": [
            "\\\\\n"
          ],
          "name": "stdout"
        }
      ]
    },
    {
      "cell_type": "code",
      "metadata": {
        "id": "V6wM22e66iOH",
        "outputId": "f2243a5e-b97b-4bbe-eecb-8124931e12cc"
      },
      "source": [
        "print(\"\\\\\"+\"\\\\\")"
      ],
      "execution_count": null,
      "outputs": [
        {
          "output_type": "stream",
          "text": [
            "\\\\\n"
          ],
          "name": "stdout"
        }
      ]
    },
    {
      "cell_type": "code",
      "metadata": {
        "id": "mncAK-RZ6iOI",
        "outputId": "8d537211-3e41-4dfc-b51a-6023d5ce3b07"
      },
      "source": [
        "a = 3\n",
        "b = 4\n",
        "print(\"{} + {}'ün toplamı {}'dir.\".format(a, b, a+b))"
      ],
      "execution_count": null,
      "outputs": [
        {
          "output_type": "stream",
          "text": [
            "3 + 4'ün toplamı 7'dir.\n"
          ],
          "name": "stdout"
        }
      ]
    },
    {
      "cell_type": "code",
      "metadata": {
        "id": "lNau0Mkv6iOI",
        "outputId": "cd0ef90a-3575-4a32-9810-2b6d37bc6fb8"
      },
      "source": [
        "text = \"{:.2f}, {:.3f}, {:.4f}\".format(3.1463, 5.3676, 7.324567)\n",
        "print(text)"
      ],
      "execution_count": null,
      "outputs": [
        {
          "output_type": "stream",
          "text": [
            "3.15, 5.368, 7.3246\n"
          ],
          "name": "stdout"
        }
      ]
    },
    {
      "cell_type": "code",
      "metadata": {
        "id": "SqP0KHkC6iOI",
        "outputId": "28debb79-7f57-4493-c26f-3cf6ff64aa09"
      },
      "source": [
        "text = \"{:.2s} - {:.3s} - {:.4s}\".format(\"3.1463\", \"5.3676\", \"7.324567\")\n",
        "print(text)"
      ],
      "execution_count": null,
      "outputs": [
        {
          "output_type": "stream",
          "text": [
            "3. - 5.3 - 7.32\n"
          ],
          "name": "stdout"
        }
      ]
    },
    {
      "cell_type": "code",
      "metadata": {
        "id": "_arpfHAH6iOI",
        "outputId": "290a32bf-93e0-4094-b2a9-25697be9cbbe"
      },
      "source": [
        "text = \"{:>20}\".format(\"clarusway\")\n",
        "text"
      ],
      "execution_count": null,
      "outputs": [
        {
          "output_type": "execute_result",
          "data": {
            "text/plain": [
              "'           clarusway'"
            ]
          },
          "metadata": {
            "tags": []
          },
          "execution_count": 90
        }
      ]
    },
    {
      "cell_type": "code",
      "metadata": {
        "id": "ksJUR7MY6iOI",
        "outputId": "e6c804b9-4daa-4b09-8be4-1f73285152f2"
      },
      "source": [
        "text = \"{:<20}\".format(\"clarusway\")\n",
        "text"
      ],
      "execution_count": null,
      "outputs": [
        {
          "output_type": "execute_result",
          "data": {
            "text/plain": [
              "'clarusway           '"
            ]
          },
          "metadata": {
            "tags": []
          },
          "execution_count": 91
        }
      ]
    },
    {
      "cell_type": "code",
      "metadata": {
        "id": "Sf7KsE8r6iOJ",
        "outputId": "5a3d5125-e6e1-4c15-a102-8d42cddefdfc"
      },
      "source": [
        "text1 = 'formatlama {:>10} formatlama'.format('test')\n",
        "text1"
      ],
      "execution_count": null,
      "outputs": [
        {
          "output_type": "execute_result",
          "data": {
            "text/plain": [
              "'formatlama       test formatlama'"
            ]
          },
          "metadata": {
            "tags": []
          },
          "execution_count": 92
        }
      ]
    },
    {
      "cell_type": "code",
      "metadata": {
        "id": "zo-Y2hno6iOJ",
        "outputId": "22f03aea-a107-4a61-ee59-d1a4f683250f"
      },
      "source": [
        "text2 = \"{:<10} formatlama\".format(\"test\")\n",
        "text2"
      ],
      "execution_count": null,
      "outputs": [
        {
          "output_type": "execute_result",
          "data": {
            "text/plain": [
              "'test       formatlama'"
            ]
          },
          "metadata": {
            "tags": []
          },
          "execution_count": 94
        }
      ]
    },
    {
      "cell_type": "code",
      "metadata": {
        "id": "TOi0sRnV6iOJ",
        "outputId": "ff565347-4727-4dc7-9e3d-00c892ef76a2"
      },
      "source": [
        "\"{:^20}\".format(\"test\")"
      ],
      "execution_count": null,
      "outputs": [
        {
          "output_type": "execute_result",
          "data": {
            "text/plain": [
              "'        test        '"
            ]
          },
          "metadata": {
            "tags": []
          },
          "execution_count": 95
        }
      ]
    },
    {
      "cell_type": "code",
      "metadata": {
        "id": "zxwzsDR76iOJ",
        "outputId": "8909fbe0-54f7-4b91-baaa-8525a3d5dc51"
      },
      "source": [
        "'formatlama {:^20} formatlama'.format('test')"
      ],
      "execution_count": null,
      "outputs": [
        {
          "output_type": "execute_result",
          "data": {
            "text/plain": [
              "'formatlama         test         formatlama'"
            ]
          },
          "metadata": {
            "tags": []
          },
          "execution_count": 96
        }
      ]
    },
    {
      "cell_type": "code",
      "metadata": {
        "id": "nz2hKwfs6iOJ",
        "outputId": "482e976c-287e-4764-e31f-d2d701d388fa"
      },
      "source": [
        "\"{:.5}\".format(\"hippopotamus\")"
      ],
      "execution_count": null,
      "outputs": [
        {
          "output_type": "execute_result",
          "data": {
            "text/plain": [
              "'hippo'"
            ]
          },
          "metadata": {
            "tags": []
          },
          "execution_count": 97
        }
      ]
    },
    {
      "cell_type": "code",
      "metadata": {
        "id": "Wa2DebwE6iOK",
        "outputId": "89f8c2f7-90b1-4777-a0b9-821311ca4b51"
      },
      "source": [
        "\"{:.2}\".format(\"hippopotamus\")"
      ],
      "execution_count": null,
      "outputs": [
        {
          "output_type": "execute_result",
          "data": {
            "text/plain": [
              "'hi'"
            ]
          },
          "metadata": {
            "tags": []
          },
          "execution_count": 98
        }
      ]
    },
    {
      "cell_type": "code",
      "metadata": {
        "id": "gS2XT6ky6iOK",
        "outputId": "5e9bcdba-009f-4f3e-8b19-bfdbf0d4fae2"
      },
      "source": [
        "\"{:10.3}\".format(\"hippopotamus\")"
      ],
      "execution_count": null,
      "outputs": [
        {
          "output_type": "execute_result",
          "data": {
            "text/plain": [
              "'hip       '"
            ]
          },
          "metadata": {
            "tags": []
          },
          "execution_count": 99
        }
      ]
    },
    {
      "cell_type": "code",
      "metadata": {
        "id": "Hc82Dj9Z6iOK",
        "outputId": "058871c5-3862-4dc2-94a1-a2043c2c999e"
      },
      "source": [
        "\"{:>10.3}\".format(\"hippopotamjus\")"
      ],
      "execution_count": null,
      "outputs": [
        {
          "output_type": "execute_result",
          "data": {
            "text/plain": [
              "'       hip'"
            ]
          },
          "metadata": {
            "tags": []
          },
          "execution_count": 100
        }
      ]
    },
    {
      "cell_type": "code",
      "metadata": {
        "id": "RwIybWuG6iOK",
        "outputId": "96e03111-710e-450a-e905-317d8f7cc969"
      },
      "source": [
        "'{:.5}'.format(3.141592653589793)"
      ],
      "execution_count": null,
      "outputs": [
        {
          "output_type": "execute_result",
          "data": {
            "text/plain": [
              "'3.1416'"
            ]
          },
          "metadata": {
            "tags": []
          },
          "execution_count": 101
        }
      ]
    },
    {
      "cell_type": "code",
      "metadata": {
        "id": "BLIsEaEs6iOK",
        "outputId": "7f8e1928-453b-4f8a-97ff-5fbb83ff78b9"
      },
      "source": [
        "'{:.5}'.format(\"3.141592653589793\")"
      ],
      "execution_count": null,
      "outputs": [
        {
          "output_type": "execute_result",
          "data": {
            "text/plain": [
              "'3.141'"
            ]
          },
          "metadata": {
            "tags": []
          },
          "execution_count": 102
        }
      ]
    },
    {
      "cell_type": "code",
      "metadata": {
        "id": "vaqCoue96iOL"
      },
      "source": [
        ""
      ],
      "execution_count": null,
      "outputs": []
    },
    {
      "cell_type": "code",
      "metadata": {
        "id": "7mGiAAa96iOL"
      },
      "source": [
        ""
      ],
      "execution_count": null,
      "outputs": []
    }
  ]
}